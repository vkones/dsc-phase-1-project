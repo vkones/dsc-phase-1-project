{
 "cells": [
  {
   "cell_type": "code",
   "execution_count": 3,
   "metadata": {},
   "outputs": [
    {
     "data": {
      "image/jpeg": "[encoded data removed]",
      "text/plain": [
       "<IPython.core.display.Image object>"
      ]
     },
     "metadata": {
      "image/jpeg": {
       "width": 700
      }
     },
     "output_type": "display_data"
    }
   ],
   "source": [
    "from IPython.display import Image, display\n",
    "display(Image(filename=\"data/plane.jpeg\", width= 700))"
   ]
  },
  {
   "cell_type": "markdown",
   "metadata": {},
   "source": [
    "## Final Project Submission \n",
    "* Author: Valary Kones\n",
    "* Student pace: full time hybrid\n",
    "* Instructor name: Samuel Karu\n",
    "\n"
   ]
  },
  {
   "cell_type": "markdown",
   "metadata": {},
   "source": [
    "---"
   ]
  },
  {
   "cell_type": "markdown",
   "metadata": {},
   "source": [
    "## Project Overview\n",
    "\n",
    "For this project I will use data about aviation accidents from 1919-2023 to generate insights for my client, a company that is trying to break into the aviation industry. I will use data cleaning, analysis and visualization to support my insights and generate 3 recommendations for this company. "
   ]
  },
  {
   "cell_type": "markdown",
   "metadata": {},
   "source": [
    "## Business Problem\n",
    "\n",
    "My company is thinking of expanding into the aviation industry and is  interested in purchasing and operating airplanes for commercial and private enterprises. I am charged with determining which aircraft are the lowest risk for the company to start this new business endeavor.\n",
    "To do this  I plan to answer the following data questions:\n",
    "1. What is the distribution of accidents by aircraft type\n",
    "2. What was the survival rate for each aircraft and which had the highest survival rate(less fatalities)\n",
    "3. What was the location of most accidents. Is there a location we could avoid going for its riskyness factor.\n",
    "\n",
    "I must then translate my findings into actionable insights that the head of the new aviation division can use to help decide which aircraft to purchase."
   ]
  },
  {
   "cell_type": "markdown",
   "metadata": {},
   "source": [
    "---"
   ]
  },
  {
   "cell_type": "markdown",
   "metadata": {},
   "source": [
    "## Data Understanding\n",
    "\n",
    "The data provided is from the National Transportation Safety Board that includes aviation accident data from 1962 to 2023 about civil aviation accidents and selected incidents in the United States and international waters.\n",
    "\n",
    "This data has 9 columns, showing the date,year, location and aircraft type, aircraft operator and number of fatalities of each accident during this time period. I will be interested in the information about the number of fatalities,and aircraft types as this will help me answer the first data question.\n",
    "I will fill in any missing values i feel i need.\n"
   ]
  },
  {
   "cell_type": "code",
   "execution_count": null,
   "metadata": {},
   "outputs": [],
   "source": [
    "# Your code here - remember to use markdown cells for comments as well!"
   ]
  }
 ],
 "metadata": {
  "kernelspec": {
   "display_name": "learn-env",
   "language": "python",
   "name": "python3"
  },
  "language_info": {
   "codemirror_mode": {
    "name": "ipython",
    "version": 3
   },
   "file_extension": ".py",
   "mimetype": "text/x-python",
   "name": "python",
   "nbconvert_exporter": "python",
   "pygments_lexer": "ipython3",
   "version": "3.8.5"
  }
 },
 "nbformat": 4,
 "nbformat_minor": 2
}
